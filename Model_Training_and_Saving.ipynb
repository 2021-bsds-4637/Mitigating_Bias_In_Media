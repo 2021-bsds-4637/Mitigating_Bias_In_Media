{
 "cells": [
  {
   "cell_type": "markdown",
   "id": "b71a7f64-f3cc-4f83-8854-3db0711d2385",
   "metadata": {},
   "source": [
    "Import libraries"
   ]
  },
  {
   "cell_type": "code",
   "execution_count": 1,
   "id": "82ef5ae0-0c4a-44cc-8195-660e1bf5a611",
   "metadata": {},
   "outputs": [],
   "source": [
    "import pandas as pd\n",
    "import numpy as np\n",
    "import joblib"
   ]
  },
  {
   "cell_type": "markdown",
   "id": "086c975c-301b-4644-9e6c-500dbc0a6e70",
   "metadata": {},
   "source": [
    "Load Data"
   ]
  },
  {
   "cell_type": "code",
   "execution_count": 2,
   "id": "b1a42bbc-0b8d-4821-af6a-d4295af8cc17",
   "metadata": {},
   "outputs": [],
   "source": [
    "Liar_data =  pd.read_csv(r'C:\\Users\\Hp\\Documents\\Fake News Detection\\LIAR plus dataset\\LIAR_Cleaned_data.csv')\n",
    "news_data =  pd.read_csv(r'C:\\Users\\Hp\\Documents\\Fake News Detection\\LIAR plus dataset\\News_Cleaned_data.csv')"
   ]
  },
  {
   "cell_type": "markdown",
   "id": "9d62b8d1-f69f-440e-85b5-ebe450c640e4",
   "metadata": {},
   "source": [
    "Concat Datasets"
   ]
  },
  {
   "cell_type": "code",
   "execution_count": 3,
   "id": "4308a542-0ea5-43fd-9a99-ab9d63ed4a31",
   "metadata": {},
   "outputs": [
    {
     "name": "stdout",
     "output_type": "stream",
     "text": [
      "                                                text  target\n",
      "0  say the annies list political group support th...       0\n",
      "1  when did the decline of coal start it started ...       1\n",
      "2  hillary clinton agrees with john mccain by vot...       1\n",
      "3  health care reform legislation is likely to ma...       0\n",
      "4  the economic turnaround started at the end of ...       1\n"
     ]
    }
   ],
   "source": [
    "# Combine datasets into one frame\n",
    "df = pd.concat([Liar_data, news_data], ignore_index=True)\n",
    "\n",
    "# Print the first few rows to verify\n",
    "print(df.head())"
   ]
  },
  {
   "cell_type": "code",
   "execution_count": 4,
   "id": "3cb4d1b1-4fdf-45da-ba90-9c5e4d559d11",
   "metadata": {},
   "outputs": [],
   "source": [
    "# Save df to a CSV file\n",
    "df.to_csv('Combined_Cleaned_data.csv', index=False)"
   ]
  },
  {
   "cell_type": "markdown",
   "id": "2f9b480a-3b1f-482e-bc6f-25bf39d7fbdc",
   "metadata": {},
   "source": [
    "Get shape of data"
   ]
  },
  {
   "cell_type": "code",
   "execution_count": 5,
   "id": "58386a06-881f-4c24-91ad-e22d3bdcd5a5",
   "metadata": {},
   "outputs": [
    {
     "data": {
      "text/plain": [
       "(57478, 2)"
      ]
     },
     "execution_count": 5,
     "metadata": {},
     "output_type": "execute_result"
    }
   ],
   "source": [
    "df.shape"
   ]
  },
  {
   "cell_type": "markdown",
   "id": "2a59da37-f46a-440d-9dd5-06ed82d3fddb",
   "metadata": {},
   "source": [
    "Check Missing Values"
   ]
  },
  {
   "cell_type": "code",
   "execution_count": 6,
   "id": "775ae362-f575-4fd3-927c-d026916986e7",
   "metadata": {},
   "outputs": [
    {
     "data": {
      "text/plain": [
       "text      0\n",
       "target    0\n",
       "dtype: int64"
      ]
     },
     "execution_count": 6,
     "metadata": {},
     "output_type": "execute_result"
    }
   ],
   "source": [
    "df.isnull().sum()"
   ]
  },
  {
   "cell_type": "code",
   "execution_count": 7,
   "id": "29cb41fe-b629-4d3b-8c1a-0d2bb22eeb47",
   "metadata": {},
   "outputs": [],
   "source": [
    "X = df['text'].values\n",
    "y = df['target'].values"
   ]
  },
  {
   "cell_type": "code",
   "execution_count": 8,
   "id": "4ccf22f2-265d-4332-8425-d61777a40fe7",
   "metadata": {},
   "outputs": [
    {
     "name": "stdout",
     "output_type": "stream",
     "text": [
      "['say the annies list political group support thirdtrimester abortion on demand'\n",
      " 'when did the decline of coal start it started when natural gas took off that started to begin in president george w bush administration'\n",
      " 'hillary clinton agrees with john mccain by voting to give george bush the benefit of the doubt on iran'\n",
      " ...\n",
      " \"['washington', 'reuter', 'presid', 'donald', 'trump', 'told', 'chief', 'execut', 'major', 'us', 'compani', 'thursday', 'plan', 'bring', 'million', 'job', 'back', 'unit', 'state', 'offer', 'specif', 'plan', 'revers', 'decadeslong', 'declin', 'factori', 'job', 'first', 'month', 'offic', 'trump', 'pressur', 'number', 'us', 'compani', 'hire', 'unit', 'state', 'yet', 'publicli', 'propos', 'legisl', 'tackl', 'big', 'econom', 'issu', 'campaign', '2016', 'includ', 'jobboost', 'tax', 'infrastructur', 'program', 'address', 'joint', 'session', 'congress', 'feb', '28', 'meet', 'two', 'dozen', 'ceo', 'white', 'hous', 'trump', 'said', 'unit', 'state', 'lost', 'onethird', 'manufactur', 'job', 'sinc', 'join', 'north', 'american', 'free', 'trade', 'agreement', '1994', 'assert', '70000', 'factori', 'close', 'sinc', 'china', 'join', 'world', 'trade', 'organ', '16', 'year', 'ago', 'bureau', 'labor', 'statist', 'say', 'number', 'privat', 'sector', 'manufactur', 'facil', 'unit', 'state', 'fallen', 'less', 'nearli', '400000', '2001', '344000', 'last', 'year', 'lower', 'wage', 'autom', 'foreign', 'competit', 'factor', 'account', 'steep', 'declin', 'manufactur', 'job', 'expert', 'say', 'trump', 'promis', 'roll', 'propos', 'say', 'could', 'favor', 'ramif', 'compani', 'includ', 'plan', 'overhaul', 'tax', 'code', 'infrastructur', 'packag', 'part', 'presidenti', 'campaign', 'promis', 'creat', 'million', 'job', 'declin', 'specifi', 'mind', '“', 'we', '’', 're', 'go', 'find', 'bring', 'job', 'back', '”', 'told', 'ceo', 'gener', 'electr', 'co', 'gen', 'chief', 'execut', 'jeff', 'immelt', 'said', 'meet', 'twitter', 'post', '“', 'tax', 'reform', 'high', 'prioriti', 'job', 'creation', 'busi', 'commun', 'come', 'togeth', 'help', 'find', 'workabl', 'solut', '”', 'ken', 'frazier', 'ceo', 'merck', 'co', 'mrkn', 'told', 'report', '“', 'it', 'clear', 'presid', 'interest', 'lessen', 'tax', 'burden', '”', 'sever', 'ceo', 'met', 'trump', 'part', 'coalit', 'support', 'socal', 'border', 'adjust', 'tax', 'would', 'impos', '20', 'percent', 'tax', 'good', 'import', 'countri', 'provid', 'writeoff', 'good', 'export', 'interview', 'reuter', 'trump', 'spoke', 'favor', 'border', 'adjust', 'tax', 'propos', 'push', 'republican', 'us', 'congress', 'specif', 'endors', 'trump', 'schedul', 'dine', 'washington', 'hotel', 'thursday', 'even', 'member', 'busi', 'council', 'group', 'major', 'us', 'compani', 'ceo', 'includ', 'immelt', 'goldman', 'sach', '’', 'lloyd', 'blankfein', 'jp', 'morgan', 'chase', '’', 's', 'jami', 'dimon']\"\n",
      " \"['mexico', 'citi', 'reuter', 'twothird', 'mexican', 'reject', 'offer', 'amnesti', 'member', 'crimin', 'gang', 'way', 'reduc', 'violenc', 'countri', 'poll', 'show', 'monday', 'day', 'top', 'leftist', 'presidenti', 'candid', 'float', 'idea', 'explor', 'step', 'start', 'decemb', 'andr', 'manuel', 'lopez', 'obrador', 'told', 'support', 'violencewrack', 'state', 'guerrero', 'prepar', 'analyz', 'option', 'includ', 'amnesti', 'bring', 'peac', 'mexico', 'year', 'violenc', 'gang', 'fight', 'fire', 'fire', 'said', 'ask', 'report', 'whether', 'amnesti', 'could', 'includ', 'drug', 'cartel', 'boss', 'lopez', 'obrador', 'campaign', 'would', 'consid', 'record', 'publish', 'newspap', 'el', 'univers', 'telephon', 'survey', 'poll', 'firm', 'buendia', 'laredo', 'el', 'univers', 'show', '23', 'percent', 'respond', 'agre', 'somewhat', 'strongli', 'idea', 'broker', 'amnesti', 'gang', 'exchang', 'pledg', 'reduc', 'violenc', '66', 'percent', 'took', 'opposit', 'view', 'eight', 'percent', 'said', 'opinion', 'either', 'way', 'rest', 'gave', 'answer', 'violenc', 'drug', 'cartel', 'secur', 'forc', 'blame', 'well', '100000', 'death', 'past', 'decad', 'mexico', 'track', 'regist', 'highest', 'murder', 'total', 'year', 'sinc', 'began', 'keep', 'regular', 'monthli', 'talli', '1997', 'lopez', 'obrador', 'led', 'earli', 'poll', 'juli', '2018', 'elect', 'provid', 'detail', 'potenti', 'scope', 'amnesti', 'aid', '64yearold', 'consult', 'reuter', 'far', 'declin', 'flesh', 'one', 'might', 'work', 'former', 'mayor', 'mexico', 'citi', 'lopez', 'obrador', 'runnerup', 'last', 'two', 'elect', 'adversari', 'seiz', 'amnesti', 'paint', 'propos', 'threat', 'secur', 'affront', 'victim', 'organ', 'crime', 'gang', 'truce', 'el', 'salvador', '2012', 'initi', 'cut', 'violenc', 'broke', 'murder', 'soar', 'new', 'height', 'buendia', 'laredo', 'survey', 'poll', '600', 'peopl', 'dec', '78', 'said', '16', 'percent', 'poll', 'felt', 'amnesti', 'would', 'improv', 'secur', 'situat', 'mexico', '62', 'percent', 'took', 'opposit', 'view', '18', 'percent', 'believ', 'would', 'make', 'differ', 'rest', 'gave', 'answer', 'poll', 'conduct', 'margin', 'error', '40', 'percentag', 'point', 'el', 'univers', 'said']\"\n",
      " \"['immigr', 'custom', 'enforc', 'better', 'known', 'acronym', 'ice', 'approach', 'nation', 'archiv', 'record', 'administr', 'nara', 'seek', 'approv', 'timet', 'destroy', 'record', 'relat', 'detent', 'operationsnara', 'independ', 'agenc', 'unit', 'state', 'govern', 'whose', 'main', 'respons', 'preserv', 'document', 'govern', 'histor', 'record', 'well', 'increas', 'public', 'access', 'document', 'nation', 'archiv', 'compris', 'particular', 'occas', 'howev', 'ice', 'ask', 'nara', 'advic', 'matter', 'recordkeep', 'effici', 'rather', 'approv', 'eras', 'long', 'document', 'histori', 'human', 'right', 'constitut', 'abuseif', 'trump', 'crew', 'way', 'sheer', 'amount', 'immigr', 'detent', 'go', 'increas', 'exponenti', 'condit', 'locat', 'detaine', 'hous', 'get', 'wors', 'import', 'record', 'kept', 'avail', 'exactli', 'paper', 'trail', 'ice', 'tri', 'cover', 'upmani', 'organ', 'advoc', 'decri', 'tri', 'draw', 'attent', 'issu', 'abus', 'basic', 'human', 'right', 'detent', 'system', 'year', 'turn', 'strong', 'case', 'ice', 'request', 'permiss', 'nara', 'routin', 'destroy', 'offici', 'record', '11', 'differ', 'categori', 'mainli', 'consist', 'offer', 'proof', 'mistreat', 'endur', 'detaine', 'record', 'relat', 'sexual', 'assault', 'solitari', 'confin', 'importantli', 'death', 'peopl', 'ice', 'custodi', 'record', 'ice', 'campaign', 'dispos', 'rel', 'frequent', 'basi', 'regular', 'detent', 'monitor', 'report', 'log', 'detaine', 'ice', 'facil', 'commun', 'public', 'report', 'detent', 'abuseswhat', 'even', 'disturb', 'look', 'like', 'nara', 'go', 'approv', 'ice', 'request', 'reason', 'simpli', 'horrend', 'eye', 'nara', 'record', 'relat', 'case', 'sexual', 'assault', 'even', 'death', 'detaine', 'document', 'signific', 'action', 'feder', 'offici', 'despit', 'fact', '10', 'death', 'immigr', 'detent', 'past', '10', 'month', 'come', 'case', 'sexual', 'assault', 'nara', 'claim', 'inform', 'highli', 'sensit', 'warrant', 'retent', 'ice', 'get', 'way', 'like', 'plan', 'abl', 'destroy', 'sexual', 'assault', 'death', 'record', '20', 'year', 'report', 'solitari', 'confin', 'three', 'year', 'remov', 'crimin', 'paper', 'trail', 'complet', 'public', 'eye', 'timefeatur', 'imag', 'via', 'anthoni', 'devlingetti', 'imag']\"]\n"
     ]
    }
   ],
   "source": [
    "print(X)"
   ]
  },
  {
   "cell_type": "markdown",
   "id": "e4a28af6-cd3d-489f-afef-f5a40987b40e",
   "metadata": {},
   "source": [
    " Feature Extraction Using TF-IDF"
   ]
  },
  {
   "cell_type": "code",
   "execution_count": 9,
   "id": "2cb5f408-7ad2-4369-99c8-5c778df620c9",
   "metadata": {},
   "outputs": [],
   "source": [
    "from sklearn.feature_extraction.text import TfidfVectorizer\n",
    "# Initialize the TF-IDF Vectorizer\n",
    "tfidf_vectorizer = TfidfVectorizer()\n",
    "tfidf_vectorizer.fit(X)\n",
    "X = tfidf_vectorizer.transform(X)"
   ]
  },
  {
   "cell_type": "code",
   "execution_count": 10,
   "id": "3f6d8831-c84a-49b1-8c14-33784a9d2fb7",
   "metadata": {},
   "outputs": [
    {
     "name": "stdout",
     "output_type": "stream",
     "text": [
      "  (0, 14475)\t0.33016759132341994\n",
      "  (0, 21704)\t0.5437185742014611\n",
      "  (0, 54981)\t0.18967207907990202\n",
      "  (0, 79294)\t0.13309510708420363\n",
      "  (0, 108629)\t0.19189251263682183\n",
      "  (0, 130064)\t0.2112883974104716\n",
      "  (0, 143683)\t0.382046233914163\n",
      "  (0, 162434)\t0.09303800233528253\n",
      "  (0, 176970)\t0.1183412133512721\n",
      "  (0, 181218)\t0.12981053346936736\n",
      "  (0, 182592)\t0.5241501056050897\n",
      "  (1, 16169)\t0.2154471787802618\n",
      "  (1, 29506)\t0.12733055690817524\n",
      "  (1, 36503)\t0.14112368771493783\n",
      "  (1, 44704)\t0.1856266637980225\n",
      "  (1, 54283)\t0.3016875382466613\n",
      "  (1, 56654)\t0.20674466731180244\n",
      "  (1, 75341)\t0.2370886463837897\n",
      "  (1, 76036)\t0.2349603072300624\n",
      "  (1, 92735)\t0.10779310746830024\n",
      "  (1, 96956)\t0.11685153320687905\n",
      "  (1, 122799)\t0.2804279136657308\n",
      "  (1, 128916)\t0.11256845892985262\n",
      "  (1, 128936)\t0.21726896124456221\n",
      "  (1, 146107)\t0.17339003945636364\n",
      "  :\t:\n",
      "  (57477, 165403)\t0.040382986073456556\n",
      "  (57477, 166207)\t0.14146979531567594\n",
      "  (57477, 166803)\t0.05350291864987622\n",
      "  (57477, 168357)\t0.03580883761948761\n",
      "  (57477, 168652)\t0.0333089952996575\n",
      "  (57477, 170816)\t0.1312774975474542\n",
      "  (57477, 173365)\t0.015135727353266829\n",
      "  (57477, 175524)\t0.03173994152642824\n",
      "  (57477, 178173)\t0.028306254250932437\n",
      "  (57477, 183125)\t0.025110476176000367\n",
      "  (57477, 183765)\t0.06724468978117498\n",
      "  (57477, 184032)\t0.05732692241763933\n",
      "  (57477, 186116)\t0.08096996894929032\n",
      "  (57477, 186722)\t0.044741570934136554\n",
      "  (57477, 187322)\t0.015415812395622694\n",
      "  (57477, 188615)\t0.026174363401139385\n",
      "  (57477, 191239)\t0.019767718538269377\n",
      "  (57477, 192122)\t0.08886379575379885\n",
      "  (57477, 193982)\t0.021529834091554904\n",
      "  (57477, 196600)\t0.0440868875940971\n",
      "  (57477, 197291)\t0.04322454904573078\n",
      "  (57477, 198324)\t0.023174730323606757\n",
      "  (57477, 199505)\t0.030734106475248785\n",
      "  (57477, 201629)\t0.03638756598575798\n",
      "  (57477, 202977)\t0.05044189401149055\n"
     ]
    }
   ],
   "source": [
    "print(X)"
   ]
  },
  {
   "cell_type": "markdown",
   "id": "d0bbe829-5560-448a-addc-c9683421dae1",
   "metadata": {},
   "source": [
    "Logistic Model"
   ]
  },
  {
   "cell_type": "code",
   "execution_count": 11,
   "id": "110e6e3f-211a-4d22-ac0a-5223108f38cd",
   "metadata": {},
   "outputs": [
    {
     "name": "stdout",
     "output_type": "stream",
     "text": [
      "Train Accuracy:  0.9295593928058805\n",
      "Test Accuracy:  0.9020528879610299\n",
      "\n",
      "Classification Report:\n",
      "              precision    recall  f1-score   support\n",
      "\n",
      "           0       0.90      0.90      0.90      5812\n",
      "           1       0.90      0.90      0.90      5684\n",
      "\n",
      "    accuracy                           0.90     11496\n",
      "   macro avg       0.90      0.90      0.90     11496\n",
      "weighted avg       0.90      0.90      0.90     11496\n",
      "\n"
     ]
    }
   ],
   "source": [
    "from sklearn.model_selection import train_test_split\n",
    "from sklearn.linear_model import LogisticRegression\n",
    "from sklearn.metrics import accuracy_score, classification_report, confusion_matrix\n",
    "\n",
    "# Step 2: Split into training and testing sets\n",
    "X_train, X_test, y_train, y_test = train_test_split(X, y, test_size=0.2, random_state=42)\n",
    "\n",
    "# Step 3: Train Logistic Regression Model\n",
    "model = LogisticRegression(max_iter=1000, random_state=42)\n",
    "model.fit(X_train, y_train)\n",
    "\n",
    "train_y_pred =  model.predict(X_train)\n",
    "print(\"Train Accuracy: \", accuracy_score(train_y_pred, y_train))\n",
    "\n",
    "\n",
    "test_y_pred =  model.predict(X_test)\n",
    "print(\"Test Accuracy: \", accuracy_score(test_y_pred, y_test))\n",
    "\n",
    "print(\"\\nClassification Report:\")\n",
    "print(classification_report(y_test, test_y_pred))"
   ]
  },
  {
   "cell_type": "code",
   "execution_count": 12,
   "id": "93a8a470-eba6-4809-b347-74fa4683cc82",
   "metadata": {},
   "outputs": [
    {
     "data": {
      "text/plain": [
       "(45982, 205145)"
      ]
     },
     "execution_count": 12,
     "metadata": {},
     "output_type": "execute_result"
    }
   ],
   "source": [
    "X_train.shape"
   ]
  },
  {
   "cell_type": "code",
   "execution_count": 13,
   "id": "be005d41-b642-4935-a6a1-49f5509a0627",
   "metadata": {},
   "outputs": [
    {
     "data": {
      "text/plain": [
       "(11496, 205145)"
      ]
     },
     "execution_count": 13,
     "metadata": {},
     "output_type": "execute_result"
    }
   ],
   "source": [
    "X_test.shape"
   ]
  },
  {
   "cell_type": "code",
   "execution_count": 14,
   "id": "6c6522c3-76af-4ee3-b2ff-fcc5981844df",
   "metadata": {},
   "outputs": [
    {
     "data": {
      "text/plain": [
       "['tfidf_vectorizer.pkl']"
      ]
     },
     "execution_count": 14,
     "metadata": {},
     "output_type": "execute_result"
    }
   ],
   "source": [
    "# Save the model and vectorizer\n",
    "joblib.dump(model, 'fake_news_model.pkl')\n",
    "joblib.dump(tfidf_vectorizer, 'tfidf_vectorizer.pkl')"
   ]
  },
  {
   "cell_type": "code",
   "execution_count": 15,
   "id": "8c00205e-06a7-466c-92fa-8ed4fd7f80dc",
   "metadata": {},
   "outputs": [],
   "source": [
    "# Prediction Function\n",
    "def predict_fake_news(input_text):\n",
    "    \"\"\"Predict if the given text is fake or real news.\"\"\"\n",
    "    vectorizer = joblib.load('tfidf_vectorizer.pkl')\n",
    "    loaded_model = joblib.load('fake_news_model.pkl')\n",
    "    \n",
    "    # Transform the input text\n",
    "    input_vectorized = vectorizer.transform([input_text])\n",
    "    prediction = loaded_model.predict(input_vectorized)\n",
    "    \n",
    "    return \"Fake News\" if prediction[0] == 1 else \"Real News\""
   ]
  }
 ],
 "metadata": {
  "kernelspec": {
   "display_name": "Python 3 (ipykernel)",
   "language": "python",
   "name": "python3"
  },
  "language_info": {
   "codemirror_mode": {
    "name": "ipython",
    "version": 3
   },
   "file_extension": ".py",
   "mimetype": "text/x-python",
   "name": "python",
   "nbconvert_exporter": "python",
   "pygments_lexer": "ipython3",
   "version": "3.12.7"
  }
 },
 "nbformat": 4,
 "nbformat_minor": 5
}
