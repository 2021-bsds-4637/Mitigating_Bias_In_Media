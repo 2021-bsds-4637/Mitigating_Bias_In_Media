#Import libraries
import pandas as pd
import numpy as np
import joblib
Load Data
Liar_data =  pd.read_csv(r'C:\Users\Hp\Documents\Fake News Detection\LIAR plus dataset\LIAR_Cleaned_data.csv')
news_data =  pd.read_csv(r'C:\Users\Hp\Documents\Fake News Detection\LIAR plus dataset\News_Cleaned_data.csv')
Concat Datasets
# Combine datasets into one frame
df = pd.concat([Liar_data, news_data], ignore_index=True)

# Print the first few rows to verify
print(df.head())
# Save df to a CSV file
df.to_csv('Combined_Cleaned_data.csv', index=False)
Get shape of data
df.shape
Check Missing Values
df.isnull().sum()
X = df['text'].values
y = df['target'].values
print(X)
 Feature Extraction Using TF-IDF
from sklearn.feature_extraction.text import TfidfVectorizer
# Initialize the TF-IDF Vectorizer
tfidf_vectorizer = TfidfVectorizer()
tfidf_vectorizer.fit(X)
X = tfidf_vectorizer.transform(X)
print(X)
Logistic Model
from sklearn.model_selection import train_test_split
from sklearn.linear_model import LogisticRegression
from sklearn.metrics import accuracy_score, classification_report, confusion_matrix

# Step 2: Split into training and testing sets
X_train, X_test, y_train, y_test = train_test_split(X, y, test_size=0.2, random_state=42)

# Step 3: Train Logistic Regression Model
model = LogisticRegression(max_iter=1000, random_state=42)
model.fit(X_train, y_train)

train_y_pred =  model.predict(X_train)
print("Train Accuracy: ", accuracy_score(train_y_pred, y_train))


test_y_pred =  model.predict(X_test)
print("Test Accuracy: ", accuracy_score(test_y_pred, y_test))

print("\nClassification Report:")
print(classification_report(y_test, test_y_pred))
X_train.shape
X_test.shape
# Save the model and vectorizer
joblib.dump(model, 'fake_news_model.pkl')
joblib.dump(tfidf_vectorizer, 'tfidf_vectorizer.pkl')
# Prediction Function
def predict_fake_news(input_text):
    """Predict if the given text is fake or real news."""
    vectorizer = joblib.load('tfidf_vectorizer.pkl')
    loaded_model = joblib.load('fake_news_model.pkl')
    
    # Transform the input text
    input_vectorized = vectorizer.transform([input_text])
    prediction = loaded_model.predict(input_vectorized)
    
    return "Real News" if prediction[0] == 1 else "Fake News"
